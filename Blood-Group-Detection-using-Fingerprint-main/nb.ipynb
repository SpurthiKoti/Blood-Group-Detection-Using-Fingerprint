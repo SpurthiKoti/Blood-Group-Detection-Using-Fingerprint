{
 "cells": [
  {
   "cell_type": "code",
   "execution_count": 10,
   "metadata": {},
   "outputs": [],
   "source": [
    "import numpy as numpy\n",
    "import pandas as pandas\n",
    "import os\n",
    "for dirname, _, filenames in os.walk('/kaggle/input'):\n",
    "    for filename in filenames:\n",
    "        os.path.join(dirname,filename)\n"
   ]
  },
  {
   "cell_type": "code",
   "execution_count": 11,
   "metadata": {},
   "outputs": [],
   "source": [
    "import tensorflow as tf\n",
    "from tensorflow.keras.preprocessing.image import ImageDataGenerator\n",
    "from collections import Counter\n",
    "import numpy as numpy\n",
    "import os\n",
    "import shutil\n",
    "from sklearn.utils import resample\n",
    "from tensorflow.keras.preprocessing.image import load_img, img_to_array, save_img\n",
    "from tensorflow.keras.preprocessing import image_dataset_from_directory\n",
    "from sklearn.metrics import classification_report, confusion_matrix\n",
    "import matplotlib.pyplot as plt\n",
    "import seaborn as sns\n",
    "import numpy as np\n",
    "import pandas as pd\n",
    "\n",
    "\n",
    "\n",
    "\n"
   ]
  },
  {
   "cell_type": "code",
   "execution_count": 12,
   "metadata": {},
   "outputs": [],
   "source": [
    "dataset_path=r\"C:\\Users\\palle\\OneDrive\\Desktop\\IPD-4\\Blood-group-prediction\\dataset_blood_group\""
   ]
  },
  {
   "cell_type": "code",
   "execution_count": 13,
   "metadata": {},
   "outputs": [],
   "source": [
    "BATCH_SIZE = 32"
   ]
  },
  {
   "cell_type": "code",
   "execution_count": 14,
   "metadata": {},
   "outputs": [
    {
     "name": "stdout",
     "output_type": "stream",
     "text": [
      "Found 6000 files belonging to 8 classes.\n"
     ]
    }
   ],
   "source": [
    "dataset = image_dataset_from_directory(\n",
    "    dataset_path,\n",
    "    labels=\"inferred\",\n",
    "    label_mode=\"int\",\n",
    "    image_size=(64, 64),\n",
    "    batch_size=BATCH_SIZE,\n",
    "    shuffle=True\n",
    ")"
   ]
  },
  {
   "cell_type": "code",
   "execution_count": 15,
   "metadata": {},
   "outputs": [
    {
     "name": "stdout",
     "output_type": "stream",
     "text": [
      "Class Distribution:\n",
      "AB-: 761\n",
      "A+: 565\n",
      "O-: 712\n",
      "O+: 852\n",
      "B+: 652\n",
      "AB+: 708\n",
      "A-: 1009\n",
      "B-: 741\n"
     ]
    }
   ],
   "source": [
    "class_names=dataset.class_names\n",
    "class_counts = Counter()\n",
    "for _, labels in dataset.unbatch():\n",
    "    class_counts[int(labels.numpy())] += 1\n",
    "print('Class Distribution:')\n",
    "for i,count in class_counts.items():\n",
    "    print(f\"{class_names[i]}: {count}\")"
   ]
  },
  {
   "cell_type": "code",
   "execution_count": 16,
   "metadata": {},
   "outputs": [],
   "source": [
    "import matplotlib.pyplot as plt\n",
    "def plot_class_distribution(class_names,class_counts):\n",
    "    classes = [class_names[i] for i in class_counts.keys()]\n",
    "    classes = [class_counts[i] for i in class_counts.keys()]"
   ]
  },
  {
   "cell_type": "code",
   "execution_count": 17,
   "metadata": {},
   "outputs": [],
   "source": [
    "plot_class_distribution(class_names, class_counts)\n"
   ]
  },
  {
   "cell_type": "code",
   "execution_count": 18,
   "metadata": {},
   "outputs": [
    {
     "data": {
      "image/png": "[encoded data removed]",
      "text/plain": [
       "<Figure size 576x360 with 1 Axes>"
      ]
     },
     "metadata": {
      "needs_background": "light"
     },
     "output_type": "display_data"
    }
   ],
   "source": [
    "import matplotlib.pyplot as plt\n",
    "\n",
    "# Define the class names (blood groups)\n",
    "class_names = ['A-', 'AB-', 'O+', 'O-', 'B-', 'AB+', 'B+', 'A+']\n",
    "\n",
    "# Corresponding count of images for each class\n",
    "count = [1009, 761, 852, 712, 741, 708, 652, 565]\n",
    "\n",
    "# Create bar chart\n",
    "plt.figure(figsize=(8, 5))  # Set figure size\n",
    "plt.bar(class_names, count, color='skyblue')  # Bar chart with color\n",
    "plt.xlabel(\"Blood Group Classes\")\n",
    "plt.ylabel(\"Number of Images\")\n",
    "plt.title(\"Dataset Class Distribution\")\n",
    "\n",
    "# Annotate each bar with its value\n",
    "for i, v in enumerate(count):\n",
    "    plt.text(i, v + 20, str(v), ha='center', fontsize=10)\n",
    "\n",
    "plt.show()\n"
   ]
  },
  {
   "cell_type": "code",
   "execution_count": 19,
   "metadata": {},
   "outputs": [
    {
     "data": {
      "image/png": "[encoded data removed]",
      "text/plain": [
       "<Figure size 576x360 with 1 Axes>"
      ]
     },
     "metadata": {
      "needs_background": "light"
     },
     "output_type": "display_data"
    }
   ],
   "source": [
    "import matplotlib.pyplot as plt\n",
    "max_count = max(class_counts.values())\n",
    "# Sample data\n",
    "class_names = [\"A+\", \"A-\", \"B+\", \"B-\", \"O+\", \"O-\", \"AB+\", \"AB-\"]\n",
    "count = [1009, 761, 852, 712, 741, 708, 652, 565]\n",
    "\n",
    "plt.figure(figsize=(8, 5))  # Set figure size\n",
    "bars = plt.bar(class_names, max_count, color='skyblue')\n",
    "\n",
    "# Adding text on top of each bar\n",
    "for bar in bars:\n",
    "    yval = bar.get_height()  # Get bar height\n",
    "    plt.text(bar.get_x() + bar.get_width()/2, yval, str(yval), \n",
    "             ha='center', va='bottom', fontsize=12, fontweight='bold')\n",
    "\n",
    "# Labels and title\n",
    "plt.xlabel(\"Blood Group Classes\")\n",
    "plt.ylabel(\"Number of Images\")\n",
    "plt.title(\"Dataset Class Distribution\")\n",
    "\n",
    "# Show the plot\n",
    "plt.show()\n"
   ]
  },
  {
   "cell_type": "code",
   "execution_count": 20,
   "metadata": {},
   "outputs": [],
   "source": [
    "max_count = max(class_counts.values())"
   ]
  },
  {
   "cell_type": "code",
   "execution_count": 21,
   "metadata": {},
   "outputs": [],
   "source": [
    "def oversample_class(class_id, count, max_count):\n",
    "    unbatched_dataset = dataset.unbatch()\n",
    "    class_dataset = unbatched_dataset.filter(lambda img, lbl: tf.equal(lbl, class_id))\n",
    "    repeat_factor = max_count // count + (max_count % count > 0)\n",
    "    return class_dataset.repeat(repeat_factor).take(max_count)"
   ]
  },
  {
   "cell_type": "code",
   "execution_count": 22,
   "metadata": {},
   "outputs": [],
   "source": [
    "balanced_datasets = []\n",
    "for class_id, count in class_counts.items():\n",
    "    balanced_datasets.append(oversample_class(class_id, count, max_count))\n",
    "balanced_dataset = tf.data.experimental.sample_from_datasets(balanced_datasets)\n",
    "balanced_class_counts = Counter([int(lbl.numpy()) for _, lbl in balanced_dataset])\n",
    "plot_class_distribution(class_names, balanced_class_counts)\n",
    "balanced_dataset = balanced_dataset.batch(BATCH_SIZE,drop_remainder=True)\n",
    "plt.show()"
   ]
  },
  {
   "cell_type": "code",
   "execution_count": 23,
   "metadata": {},
   "outputs": [
    {
     "name": "stdout",
     "output_type": "stream",
     "text": [
      "(32, 64, 64, 3)\n",
      "(32, 64, 64, 3)\n",
      "(32, 64, 64, 3)\n",
      "(32, 64, 64, 3)\n",
      "(32, 64, 64, 3)\n",
      "(32, 64, 64, 3)\n",
      "(32, 64, 64, 3)\n",
      "(32, 64, 64, 3)\n",
      "(32, 64, 64, 3)\n",
      "(32, 64, 64, 3)\n"
     ]
    }
   ],
   "source": [
    "for sample in balanced_dataset.take(10):\n",
    "    print(sample[0].shape)"
   ]
  },
  {
   "cell_type": "code",
   "execution_count": 44,
   "metadata": {},
   "outputs": [
    {
     "name": "stdout",
     "output_type": "stream",
     "text": [
      "Total dataset size: 8064\n"
     ]
    }
   ],
   "source": [
    "balanced_dataset_unbatched = balanced_dataset.unbatch()\n",
    "dataset_size = sum(1 for _ in balanced_dataset_unbatched)\n",
    "print(f\"Total dataset size: {dataset_size}\")"
   ]
  },
  {
   "cell_type": "code",
   "execution_count": 25,
   "metadata": {},
   "outputs": [
    {
     "name": "stdout",
     "output_type": "stream",
     "text": [
      "Final dataset sizes after batching:\n",
      "Training dataset size: 5632\n",
      "Validation dataset size: 1600\n",
      "Testing dataset size: 800\n"
     ]
    }
   ],
   "source": [
    "# Unbatch the dataset to get individual samples\n",
    "balanced_dataset_unbatched = balanced_dataset.unbatch()\n",
    "\n",
    "# Compute the total dataset size\n",
    "dataset_size = sum(1 for _ in balanced_dataset_unbatched)\n",
    "\n",
    "# Define split ratios\n",
    "train_ratio = 0.7\n",
    "val_ratio = 0.20\n",
    "test_ratio = 0.10\n",
    "\n",
    "# Compute exact dataset sizes\n",
    "train_size = int(train_ratio * dataset_size)\n",
    "val_size = int(val_ratio * dataset_size)\n",
    "#test_size = dataset_size - (train_size + val_size)  # Ensure exact split\n",
    "\"\"\"\n",
    "print(f\"Total dataset size: {dataset_size}\")\n",
    "print(f\"Expected splits -> Train: {train_size}, Val: {val_size}, Test: {test_size}\")\n",
    "\"\"\"\n",
    "# Re-create the dataset after computing size\n",
    "balanced_dataset_unbatched = balanced_dataset.unbatch()  # Reinitialize iterator\n",
    "\n",
    "# Split dataset correctly\n",
    "train_dataset = balanced_dataset_unbatched.take(train_size)\n",
    "val_test_dataset= balanced_dataset_unbatched.skip(train_size)\n",
    "val_dataset = val_test_dataset.take(val_size)\n",
    "#test_test_dataset= balanced_dataset_unbatched.skip(val_size)\n",
    "test_dataset = val_test_dataset.skip(val_size)  # Remaining samples go to test\n",
    "\n",
    "# Batch datasets correctly\n",
    "train_dataset = train_dataset.batch(BATCH_SIZE, drop_remainder=True)\n",
    "val_dataset = val_dataset.batch(BATCH_SIZE, drop_remainder=True)\n",
    "test_dataset = test_dataset.batch(BATCH_SIZE, drop_remainder=True)\n",
    "\n",
    "# Compute final dataset sizes\n",
    "train_batch_count = sum(1 for _ in train_dataset)\n",
    "val_batch_count = sum(1 for _ in val_dataset)\n",
    "test_batch_count = sum(1 for _ in test_dataset)\n",
    "\n",
    "print(f\"Final dataset sizes after batching:\")\n",
    "print(f\"Training dataset size: {train_batch_count * BATCH_SIZE}\")\n",
    "print(f\"Validation dataset size: {val_batch_count * BATCH_SIZE}\")\n",
    "print(f\"Testing dataset size: {test_batch_count * BATCH_SIZE}\")\n",
    "\n"
   ]
  },
  {
   "cell_type": "code",
   "execution_count": 46,
   "metadata": {},
   "outputs": [],
   "source": [
    "def create_high_accuracy_model():\n",
    "    model = tf.keras.models.Sequential([\n",
    "        tf.keras.layers.Conv2D(32, (3,3), activation='relu', padding='same', input_shape=(64,64,3)),  # Change from (64,64,3) to (224,224,3)\n",
    "        tf.keras.layers.MaxPooling2D(2,2),\n",
    "        tf.keras.layers.Dropout(0.3),\n",
    "\n",
    "        tf.keras.layers.Conv2D(64, (3,3), activation='relu', padding='same',input_shape=(64,64,3)),\n",
    "        tf.keras.layers.MaxPooling2D(2,2),\n",
    "        tf.keras.layers.Dropout(0.4),\n",
    "\n",
    "        tf.keras.layers.Conv2D(128, (3,3), activation='relu', padding='same',input_shape=(64,64,3)),\n",
    "        tf.keras.layers.MaxPooling2D(2,2),\n",
    "        tf.keras.layers.Dropout(0.4),\n",
    "\n",
    "        tf.keras.layers.Conv2D(256, (3,3), activation='relu', padding='same',input_shape=(64,64,3)),\n",
    "        tf.keras.layers.MaxPooling2D(2,2),\n",
    "        tf.keras.layers.Dropout(0.4),\n",
    "\n",
    "        tf.keras.layers.Conv2D(512, (3,3), activation='relu', padding='same',input_shape=(64,64,3)),\n",
    "        tf.keras.layers.MaxPooling2D(2,2),\n",
    "        tf.keras.layers.Dropout(0.4),\n",
    "\n",
    "        tf.keras.layers.Flatten(),\n",
    "        tf.keras.layers.Dense(1024, activation='relu'),\n",
    "        tf.keras.layers.Dropout(0.5),\n",
    "\n",
    "        tf.keras.layers.Dense(10, activation='softmax')  # Assuming 10 classes\n",
    "    ])\n",
    "\n",
    "    model.compile(optimizer='adam',\n",
    "                  loss='sparse_categorical_crossentropy',\n",
    "                  metrics=['accuracy'])\n",
    "\n",
    "    return model\n",
    "\n",
    "# Create a new model with updated input shape\n",
    "create_high_acc_model = create_high_accuracy_model()\n"
   ]
  },
  {
   "cell_type": "code",
   "execution_count": 47,
   "metadata": {},
   "outputs": [],
   "source": [
    "from tensorflow.keras.callbacks import ReduceLROnPlateau, EarlyStopping\n",
    "\n",
    "reduce_lr = ReduceLROnPlateau(\n",
    "    monitor='val_loss',\n",
    "    factor=0.5,\n",
    "    patience=3,\n",
    "    verbose=1,\n",
    "    min_lr=1e-6\n",
    ")\n",
    "\n",
    "early_stop = EarlyStopping(\n",
    "    monitor='val_loss',\n",
    "    patience=5,\n",
    "    verbose=1,\n",
    "    restore_best_weights=True\n",
    ")"
   ]
  },
  {
   "cell_type": "code",
   "execution_count": 102,
   "metadata": {},
   "outputs": [
    {
     "name": "stdout",
     "output_type": "stream",
     "text": [
      "Epoch 1/50\n",
      "176/176 [==============================] - 161s 901ms/step - loss: 7.9334 - accuracy: 0.1364 - val_loss: 2.2384 - val_accuracy: 0.1206\n",
      "Epoch 2/50\n",
      "176/176 [==============================] - 228s 1s/step - loss: 2.0698 - accuracy: 0.1653 - val_loss: 2.1433 - val_accuracy: 0.2031\n",
      "Epoch 3/50\n",
      "176/176 [==============================] - 250s 1s/step - loss: 1.8335 - accuracy: 0.2955 - val_loss: 1.8594 - val_accuracy: 0.3644\n",
      "Epoch 4/50\n",
      "176/176 [==============================] - 146s 823ms/step - loss: 1.4725 - accuracy: 0.4402 - val_loss: 1.9231 - val_accuracy: 0.1975\n",
      "Epoch 5/50\n",
      "176/176 [==============================] - 149s 840ms/step - loss: 1.2422 - accuracy: 0.5321 - val_loss: 1.5948 - val_accuracy: 0.4375\n",
      "Epoch 6/50\n",
      "176/176 [==============================] - 166s 937ms/step - loss: 1.0902 - accuracy: 0.5822 - val_loss: 1.5065 - val_accuracy: 0.5150\n",
      "Epoch 7/50\n",
      "176/176 [==============================] - 221s 1s/step - loss: 1.0467 - accuracy: 0.6051 - val_loss: 1.3215 - val_accuracy: 0.6331\n",
      "Epoch 8/50\n",
      "176/176 [==============================] - 214s 1s/step - loss: 0.9347 - accuracy: 0.6566 - val_loss: 1.2406 - val_accuracy: 0.6862\n",
      "Epoch 9/50\n",
      "176/176 [==============================] - 159s 903ms/step - loss: 0.8575 - accuracy: 0.6928 - val_loss: 1.0689 - val_accuracy: 0.7812\n",
      "Epoch 10/50\n",
      "176/176 [==============================] - 158s 891ms/step - loss: 0.8334 - accuracy: 0.6992 - val_loss: 0.9514 - val_accuracy: 0.7663\n",
      "Epoch 11/50\n",
      "176/176 [==============================] - 178s 1s/step - loss: 0.7808 - accuracy: 0.7186 - val_loss: 1.2683 - val_accuracy: 0.5719\n",
      "Epoch 12/50\n",
      "176/176 [==============================] - 265s 1s/step - loss: 0.7223 - accuracy: 0.7338 - val_loss: 0.9925 - val_accuracy: 0.7100\n",
      "Epoch 13/50\n",
      "176/176 [==============================] - 148s 837ms/step - loss: 0.7091 - accuracy: 0.7422 - val_loss: 0.8341 - val_accuracy: 0.7788\n",
      "Epoch 14/50\n",
      "176/176 [==============================] - 157s 886ms/step - loss: 0.6608 - accuracy: 0.7631 - val_loss: 0.7353 - val_accuracy: 0.8331\n",
      "Epoch 15/50\n",
      "176/176 [==============================] - 142s 803ms/step - loss: 0.6545 - accuracy: 0.7635 - val_loss: 0.8324 - val_accuracy: 0.7719\n",
      "Epoch 16/50\n",
      "176/176 [==============================] - 140s 789ms/step - loss: 0.6142 - accuracy: 0.7766 - val_loss: 0.6551 - val_accuracy: 0.8269\n",
      "Epoch 17/50\n",
      "176/176 [==============================] - 146s 823ms/step - loss: 0.6333 - accuracy: 0.7658 - val_loss: 0.7091 - val_accuracy: 0.8044\n",
      "Epoch 18/50\n",
      "176/176 [==============================] - 160s 907ms/step - loss: 0.6220 - accuracy: 0.7713 - val_loss: 0.6407 - val_accuracy: 0.8163\n",
      "Epoch 19/50\n",
      "176/176 [==============================] - 149s 844ms/step - loss: 0.6100 - accuracy: 0.7795 - val_loss: 0.7058 - val_accuracy: 0.7844\n",
      "Epoch 20/50\n",
      "176/176 [==============================] - 161s 910ms/step - loss: 0.6015 - accuracy: 0.7761 - val_loss: 0.6633 - val_accuracy: 0.8294\n",
      "Epoch 21/50\n",
      "176/176 [==============================] - 205s 1s/step - loss: 0.6193 - accuracy: 0.7711 - val_loss: 0.9027 - val_accuracy: 0.7013\n",
      "\n",
      "Epoch 00021: ReduceLROnPlateau reducing learning rate to 0.0005000000237487257.\n",
      "Epoch 22/50\n",
      "176/176 [==============================] - 259s 1s/step - loss: 0.5261 - accuracy: 0.8049 - val_loss: 0.5439 - val_accuracy: 0.8487\n",
      "Epoch 23/50\n",
      "176/176 [==============================] - 197s 1s/step - loss: 0.4780 - accuracy: 0.8194 - val_loss: 0.5055 - val_accuracy: 0.8569\n",
      "Epoch 24/50\n",
      "176/176 [==============================] - 168s 953ms/step - loss: 0.4543 - accuracy: 0.8322 - val_loss: 0.5346 - val_accuracy: 0.8500\n",
      "Epoch 25/50\n",
      "176/176 [==============================] - 141s 796ms/step - loss: 0.4618 - accuracy: 0.8192 - val_loss: 0.5001 - val_accuracy: 0.8494\n",
      "Epoch 26/50\n",
      "176/176 [==============================] - 147s 830ms/step - loss: 0.4522 - accuracy: 0.8265 - val_loss: 0.5802 - val_accuracy: 0.8075\n",
      "Epoch 27/50\n",
      "176/176 [==============================] - 172s 962ms/step - loss: 0.4278 - accuracy: 0.8398 - val_loss: 0.4729 - val_accuracy: 0.8575\n",
      "Epoch 28/50\n",
      "176/176 [==============================] - 163s 920ms/step - loss: 0.4592 - accuracy: 0.8175 - val_loss: 0.5342 - val_accuracy: 0.8481\n",
      "Epoch 29/50\n",
      "176/176 [==============================] - 149s 841ms/step - loss: 0.4465 - accuracy: 0.8303 - val_loss: 0.4304 - val_accuracy: 0.8781\n",
      "Epoch 30/50\n",
      "176/176 [==============================] - 160s 903ms/step - loss: 0.4306 - accuracy: 0.8350 - val_loss: 0.4540 - val_accuracy: 0.8550\n",
      "Epoch 31/50\n",
      "176/176 [==============================] - 153s 864ms/step - loss: 0.4336 - accuracy: 0.8324 - val_loss: 0.4659 - val_accuracy: 0.8631\n",
      "Epoch 32/50\n",
      "176/176 [==============================] - 166s 941ms/step - loss: 0.4216 - accuracy: 0.8381 - val_loss: 0.4861 - val_accuracy: 0.8606\n",
      "\n",
      "Epoch 00032: ReduceLROnPlateau reducing learning rate to 0.0002500000118743628.\n",
      "Epoch 33/50\n",
      "176/176 [==============================] - 151s 853ms/step - loss: 0.3958 - accuracy: 0.8489 - val_loss: 0.4906 - val_accuracy: 0.8581\n",
      "Epoch 34/50\n",
      "176/176 [==============================] - 174s 982ms/step - loss: 0.3779 - accuracy: 0.8501 - val_loss: 0.3842 - val_accuracy: 0.8969\n",
      "Epoch 35/50\n",
      "176/176 [==============================] - 172s 973ms/step - loss: 0.3616 - accuracy: 0.8574 - val_loss: 0.3832 - val_accuracy: 0.8875\n",
      "Epoch 36/50\n",
      "176/176 [==============================] - 180s 1s/step - loss: 0.3675 - accuracy: 0.8558 - val_loss: 0.4428 - val_accuracy: 0.8656\n",
      "Epoch 37/50\n",
      "176/176 [==============================] - 186s 1s/step - loss: 0.3440 - accuracy: 0.8723 - val_loss: 0.3537 - val_accuracy: 0.8963\n",
      "Epoch 38/50\n",
      "176/176 [==============================] - 154s 872ms/step - loss: 0.3734 - accuracy: 0.8516 - val_loss: 0.3876 - val_accuracy: 0.8981\n",
      "Epoch 39/50\n",
      "176/176 [==============================] - 160s 898ms/step - loss: 0.3485 - accuracy: 0.8667 - val_loss: 0.4019 - val_accuracy: 0.8794\n",
      "Epoch 40/50\n",
      "176/176 [==============================] - 134s 756ms/step - loss: 0.3364 - accuracy: 0.8661 - val_loss: 0.3744 - val_accuracy: 0.8850\n",
      "\n",
      "Epoch 00040: ReduceLROnPlateau reducing learning rate to 0.0001250000059371814.\n",
      "Epoch 41/50\n",
      "176/176 [==============================] - 137s 773ms/step - loss: 0.3179 - accuracy: 0.8786 - val_loss: 0.3619 - val_accuracy: 0.8919\n",
      "Epoch 42/50\n",
      "176/176 [==============================] - 137s 775ms/step - loss: 0.3247 - accuracy: 0.8729 - val_loss: 0.4254 - val_accuracy: 0.8550\n",
      "Restoring model weights from the end of the best epoch.\n",
      "Epoch 00042: early stopping\n"
     ]
    }
   ],
   "source": [
    "history_high_acc = create_high_acc_model.fit(\n",
    "    train_dataset,\n",
    "    validation_data = val_dataset,\n",
    "    epochs=50,\n",
    "    callbacks=[reduce_lr, early_stop]\n",
    ")"
   ]
  },
  {
   "cell_type": "code",
   "execution_count": 103,
   "metadata": {},
   "outputs": [
    {
     "name": "stdout",
     "output_type": "stream",
     "text": [
      "50/50 [==============================] - 45s 236ms/step - loss: 0.3555 - accuracy: 0.8900\n",
      "High Accuracy Model - Loss: 0.3554893434047699, Accuracy: 0.8899999856948853\n"
     ]
    }
   ],
   "source": [
    "high_acc_eval = create_high_acc_model.evaluate(val_dataset)    \n",
    "print(f\"High Accuracy Model - Loss: {high_acc_eval[0]}, Accuracy: {high_acc_eval[1]}\")"
   ]
  },
  {
   "cell_type": "code",
   "execution_count": 104,
   "metadata": {},
   "outputs": [
    {
     "data": {
      "image/png": "[encoded data removed]",
      "text/plain": [
       "<Figure size 432x288 with 1 Axes>"
      ]
     },
     "metadata": {
      "needs_background": "light"
     },
     "output_type": "display_data"
    }
   ],
   "source": [
    "import matplotlib.pyplot as plt\n",
    "\n",
    "plt.plot(history_high_acc.history['loss'], label='Train Loss')\n",
    "plt.plot(history_high_acc.history['val_loss'], label='Validation Loss')\n",
    "plt.xlabel('Epochs')\n",
    "plt.ylabel('Loss')\n",
    "plt.legend()\n",
    "plt.show()\n"
   ]
  },
  {
   "cell_type": "code",
   "execution_count": 106,
   "metadata": {},
   "outputs": [
    {
     "data": {
      "image/png": "[encoded data removed]",
      "text/plain": [
       "<Figure size 432x288 with 1 Axes>"
      ]
     },
     "metadata": {
      "needs_background": "light"
     },
     "output_type": "display_data"
    }
   ],
   "source": [
    "def plot_accuracy(history):\n",
    "    import matplotlib.pyplot as plt  # Ensure Matplotlib is imported\n",
    "    plt.plot(history.history['accuracy'])\n",
    "    plt.plot(history.history['val_accuracy'])  # Avoids errors if val_accuracy is missing\n",
    "    plt.title('Model Accuracy')\n",
    "    plt.ylabel('Accuracy')\n",
    "    plt.xlabel('Epoch')\n",
    "    plt.legend(['Train', 'Validation'], loc='upper left')\n",
    "    plt.show()\n",
    "\n",
    "plot_accuracy(history_high_acc)  # Call outside the function\n"
   ]
  },
  {
   "cell_type": "code",
   "execution_count": 130,
   "metadata": {},
   "outputs": [
    {
     "name": "stdout",
     "output_type": "stream",
     "text": [
      "Found 6000 files belonging to 8 classes.\n"
     ]
    },
    {
     "data": {
      "text/plain": [
       "'\\ndataset = image_dataset_from_directory(\\n    dataset_path,\\n    labels=\"inferred\",\\n    label_mode=\"categorical\",  # One-hot encoding\\n    image_size=(64, 64),\\n    batch_size=BATCH_SIZE,\\n    shuffle=True\\n)\\n\\n'"
      ]
     },
     "execution_count": 130,
     "metadata": {},
     "output_type": "execute_result"
    }
   ],
   "source": [
    "import tensorflow as tf\n",
    "\n",
    "test_data_path = r\"C:\\Users\\palle\\OneDrive\\Desktop\\IPD-4\\Blood-group-prediction\\dataset_blood_group\"\n",
    "\n",
    "test_dataset = tf.keras.preprocessing.image_dataset_from_directory(\n",
    "    test_data_path,\n",
    "    image_size=(64,64),  # Adjust based on your model input size\n",
    "    #label_mode=\"categorical\",\n",
    "    batch_size=32,\n",
    "    shuffle=False\n",
    ")\n",
    "\"\"\"\n",
    "dataset = image_dataset_from_directory(\n",
    "    dataset_path,\n",
    "    labels=\"inferred\",\n",
    "    label_mode=\"categorical\",  # One-hot encoding\n",
    "    image_size=(64, 64),\n",
    "    batch_size=BATCH_SIZE,\n",
    "    shuffle=True\n",
    ")\n",
    "\n",
    "\"\"\""
   ]
  },
  {
   "cell_type": "code",
   "execution_count": 133,
   "metadata": {},
   "outputs": [
    {
     "name": "stdout",
     "output_type": "stream",
     "text": [
      "Classification Report\n",
      "              precision    recall  f1-score   support\n",
      "\n",
      "          A+       0.95      0.95      0.95       565\n",
      "          A-       0.89      0.85      0.87      1009\n",
      "          B+       0.93      0.94      0.93       708\n",
      "          B-       0.94      0.83      0.88       761\n",
      "          O+       0.90      0.93      0.91       652\n",
      "          O-       0.80      0.99      0.89       741\n",
      "         AB+       0.90      0.90      0.90       852\n",
      "         AB-       0.93      0.85      0.89       712\n",
      "\n",
      "    accuracy                           0.90      6000\n",
      "   macro avg       0.91      0.90      0.90      6000\n",
      "weighted avg       0.90      0.90      0.90      6000\n",
      "\n"
     ]
    },
    {
     "data": {
      "image/png": "[encoded data removed]",
      "text/plain": [
       "<Figure size 576x432 with 2 Axes>"
      ]
     },
     "metadata": {
      "needs_background": "light"
     },
     "output_type": "display_data"
    }
   ],
   "source": [
    "y_true = []\n",
    "y_pred = []\n",
    "for images, labels in test_dataset:\n",
    "    predictions = create_high_acc_model.predict(images)\n",
    "    predicted_labels = np.argmax(predictions, axis=1)\n",
    "    y_true.extend(labels.numpy())\n",
    "    y_pred.extend(predicted_labels)\n",
    "#class_names = ['A+', 'A-', 'O-', 'O+', 'AB+', 'B+', 'AB-', 'B-']\n",
    "y_true = np.array(y_true)\n",
    "y_pred = np.array(y_pred)\n",
    "report = classification_report(y_true,y_pred,target_names=class_names)\n",
    "print(\"Classification Report\")\n",
    "print(report)\n",
    "\n",
    "conf_matrix = confusion_matrix(y_true,y_pred)\n",
    "\n",
    "plt.figure(figsize=(8,6))\n",
    "sns.heatmap(conf_matrix, annot=True,fmt='d',cmap='Blues',xticklabels=class_names,yticklabels=class_names)\n",
    "plt.title('Configuration Matrix')\n",
    "plt.xlabel('Predicted')\n",
    "plt.ylabel('True')\n",
    "plt.show()"
   ]
  },
  {
   "cell_type": "code",
   "execution_count": 8,
   "metadata": {},
   "outputs": [
    {
     "ename": "NameError",
     "evalue": "name 'create_high_acc_model' is not defined",
     "output_type": "error",
     "traceback": [
      "\u001b[1;31m---------------------------------------------------------------------------\u001b[0m",
      "\u001b[1;31mNameError\u001b[0m                                 Traceback (most recent call last)",
      "\u001b[1;32m<ipython-input-8-6a1e5ced1f2b>\u001b[0m in \u001b[0;36m<module>\u001b[1;34m\u001b[0m\n\u001b[1;32m----> 1\u001b[1;33m \u001b[0mhigh_acc_model\u001b[0m \u001b[1;33m=\u001b[0m \u001b[0mcreate_high_acc_model\u001b[0m  \u001b[1;31m# Assign trained model\u001b[0m\u001b[1;33m\u001b[0m\u001b[1;33m\u001b[0m\u001b[0m\n\u001b[0m\u001b[0;32m      2\u001b[0m \u001b[1;33m\u001b[0m\u001b[0m\n\u001b[0;32m      3\u001b[0m \u001b[0mhigh_acc_model\u001b[0m\u001b[1;33m.\u001b[0m\u001b[0msave\u001b[0m\u001b[1;33m(\u001b[0m\u001b[1;34m'model.h5'\u001b[0m\u001b[1;33m)\u001b[0m\u001b[1;33m\u001b[0m\u001b[1;33m\u001b[0m\u001b[0m\n\u001b[0;32m      4\u001b[0m \u001b[0mprint\u001b[0m\u001b[1;33m(\u001b[0m\u001b[1;34m\"Model saved.\"\u001b[0m\u001b[1;33m)\u001b[0m\u001b[1;33m\u001b[0m\u001b[1;33m\u001b[0m\u001b[0m\n",
      "\u001b[1;31mNameError\u001b[0m: name 'create_high_acc_model' is not defined"
     ]
    }
   ],
   "source": [
    "high_acc_model = create_high_acc_model  # Assign trained model\n",
    "\n",
    "high_acc_model.save('model.h5')\n",
    "print(\"Model saved.\")\n"
   ]
  },
  {
   "cell_type": "code",
   "execution_count": 5,
   "metadata": {},
   "outputs": [
    {
     "ename": "NameError",
     "evalue": "name 'high_acc_model' is not defined",
     "output_type": "error",
     "traceback": [
      "\u001b[1;31m---------------------------------------------------------------------------\u001b[0m",
      "\u001b[1;31mNameError\u001b[0m                                 Traceback (most recent call last)",
      "\u001b[1;32m<ipython-input-5-199f6671a407>\u001b[0m in \u001b[0;36m<module>\u001b[1;34m\u001b[0m\n\u001b[1;32m----> 1\u001b[1;33m \u001b[0mhigh_acc_model\u001b[0m\u001b[1;33m.\u001b[0m\u001b[0msave\u001b[0m\u001b[1;33m(\u001b[0m\u001b[1;34m'model.h5'\u001b[0m\u001b[1;33m)\u001b[0m\u001b[1;33m\u001b[0m\u001b[1;33m\u001b[0m\u001b[0m\n\u001b[0m\u001b[0;32m      2\u001b[0m \u001b[0mprint\u001b[0m\u001b[1;33m(\u001b[0m\u001b[1;34m\"Model saved as HDF5 format\"\u001b[0m\u001b[1;33m)\u001b[0m\u001b[1;33m\u001b[0m\u001b[1;33m\u001b[0m\u001b[0m\n",
      "\u001b[1;31mNameError\u001b[0m: name 'high_acc_model' is not defined"
     ]
    }
   ],
   "source": [
    "high_acc_model.save('model.h5')\n",
    "print(\"Model saved as HDF5 format\")"
   ]
  },
  {
   "cell_type": "code",
   "execution_count": 9,
   "metadata": {},
   "outputs": [
    {
     "ename": "NameError",
     "evalue": "name 'high_acc_model' is not defined",
     "output_type": "error",
     "traceback": [
      "\u001b[1;31m---------------------------------------------------------------------------\u001b[0m",
      "\u001b[1;31mNameError\u001b[0m                                 Traceback (most recent call last)",
      "\u001b[1;32m<ipython-input-9-199f6671a407>\u001b[0m in \u001b[0;36m<module>\u001b[1;34m\u001b[0m\n\u001b[1;32m----> 1\u001b[1;33m \u001b[0mhigh_acc_model\u001b[0m\u001b[1;33m.\u001b[0m\u001b[0msave\u001b[0m\u001b[1;33m(\u001b[0m\u001b[1;34m'model.h5'\u001b[0m\u001b[1;33m)\u001b[0m\u001b[1;33m\u001b[0m\u001b[1;33m\u001b[0m\u001b[0m\n\u001b[0m\u001b[0;32m      2\u001b[0m \u001b[0mprint\u001b[0m\u001b[1;33m(\u001b[0m\u001b[1;34m\"Model saved as HDF5 format\"\u001b[0m\u001b[1;33m)\u001b[0m\u001b[1;33m\u001b[0m\u001b[1;33m\u001b[0m\u001b[0m\n",
      "\u001b[1;31mNameError\u001b[0m: name 'high_acc_model' is not defined"
     ]
    }
   ],
   "source": [
    "high_acc_model.save('model.h5')\n",
    "print(\"Model saved as HDF5 format\")"
   ]
  },
  {
   "cell_type": "code",
   "execution_count": null,
   "metadata": {},
   "outputs": [],
   "source": []
  }
 ],
 "metadata": {
  "kernelspec": {
   "display_name": "base",
   "language": "python",
   "name": "python3"
  },
  "language_info": {
   "codemirror_mode": {
    "name": "ipython",
    "version": 3
   },
   "file_extension": ".py",
   "mimetype": "text/x-python",
   "name": "python",
   "nbconvert_exporter": "python",
   "pygments_lexer": "ipython3",
   "version": "3.7.4"
  }
 },
 "nbformat": 4,
 "nbformat_minor": 2
}
